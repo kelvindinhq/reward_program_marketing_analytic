{
  "cells": [
    {
      "cell_type": "code",
      "source": [
        "# Set the folder paths so that it can be used later\r\n",
        "silver_folder_path = 'abfss://ws-container@bogomarketingdl.dfs.core.windows.net/silver'\r\n",
        "gold_folder_path = 'abfss://ws-container@bogomarketingdl.dfs.core.windows.net/gold'"
      ],
      "outputs": [
        {
          "output_type": "display_data",
          "data": {
            "application/vnd.livy.statement-meta+json": {
              "spark_pool": "rewardprogram",
              "statement_id": 2,
              "statement_ids": [
                2
              ],
              "state": "finished",
              "livy_statement_state": "available",
              "spark_jobs": null,
              "session_id": "26",
              "normalized_state": "finished",
              "queued_time": "2024-09-24T21:31:31.0967805Z",
              "session_start_time": "2024-09-24T21:31:31.1259295Z",
              "execution_start_time": "2024-09-24T21:33:08.6760338Z",
              "execution_finish_time": "2024-09-24T21:33:08.8220704Z",
              "parent_msg_id": "fa1f7678-52ee-4829-a2cb-86dfcbb93379"
            },
            "text/plain": "StatementMeta(rewardprogram, 26, 2, Finished, Available, Finished)"
          },
          "metadata": {}
        }
      ],
      "execution_count": 10,
      "metadata": {}
    },
    {
      "cell_type": "code",
      "source": [
        "from pyspark.sql import functions as F"
      ],
      "outputs": [
        {
          "output_type": "display_data",
          "data": {
            "application/vnd.livy.statement-meta+json": {
              "spark_pool": "rewardprogram",
              "statement_id": 3,
              "statement_ids": [
                3
              ],
              "state": "finished",
              "livy_statement_state": "available",
              "spark_jobs": null,
              "session_id": "26",
              "normalized_state": "finished",
              "queued_time": "2024-09-24T21:31:31.1794946Z",
              "session_start_time": null,
              "execution_start_time": "2024-09-24T21:33:08.9334431Z",
              "execution_finish_time": "2024-09-24T21:33:09.0916779Z",
              "parent_msg_id": "32e59bb2-8c13-4080-9274-ae9d85ed1ee4"
            },
            "text/plain": "StatementMeta(rewardprogram, 26, 3, Finished, Available, Finished)"
          },
          "metadata": {}
        }
      ],
      "execution_count": 11,
      "metadata": {
        "jupyter": {
          "source_hidden": false,
          "outputs_hidden": false
        },
        "nteract": {
          "transient": {
            "deleting": false
          }
        }
      }
    },
    {
      "cell_type": "code",
      "source": [
        "def ingest_table(table_name):\r\n",
        "    df = spark.read.parquet(f\"{silver_folder_path}/{table_name}\")\r\n",
        "    # Create the 'day' column by dividing 'time' by 24\r\n",
        "    df = df.withColumn('day', ((F.col('time') / 24)+1).cast('int'))\r\n",
        "    df = df.dropDuplicates()\r\n",
        "    df.write.mode(\"overwrite\").partitionBy(\"day\",\"time\")\\\r\n",
        "    .format(\"parquet\").saveAsTable(f\"gold_reward_program_spark.{table_name}\")"
      ],
      "outputs": [
        {
          "output_type": "display_data",
          "data": {
            "application/vnd.livy.statement-meta+json": {
              "spark_pool": "rewardprogram",
              "statement_id": 4,
              "statement_ids": [
                4
              ],
              "state": "finished",
              "livy_statement_state": "available",
              "spark_jobs": null,
              "session_id": "26",
              "normalized_state": "finished",
              "queued_time": "2024-09-24T21:31:31.2353695Z",
              "session_start_time": null,
              "execution_start_time": "2024-09-24T21:33:09.2053261Z",
              "execution_finish_time": "2024-09-24T21:33:09.3574603Z",
              "parent_msg_id": "51c33605-f529-4d52-96de-9dbe9e9ee999"
            },
            "text/plain": "StatementMeta(rewardprogram, 26, 4, Finished, Available, Finished)"
          },
          "metadata": {}
        }
      ],
      "execution_count": 12,
      "metadata": {
        "jupyter": {
          "source_hidden": false,
          "outputs_hidden": false
        },
        "nteract": {
          "transient": {
            "deleting": false
          }
        }
      }
    },
    {
      "cell_type": "code",
      "source": [
        "table_names = ['transaction','offer_received','offer_viewed','offer_completed']\r\n",
        "\r\n",
        "for table_name in table_names:\r\n",
        "    ingest_table(table_name)\r\n",
        "    print(f\"success create table {table_name}\")"
      ],
      "outputs": [
        {
          "output_type": "display_data",
          "data": {
            "application/vnd.livy.statement-meta+json": {
              "spark_pool": "rewardprogram",
              "statement_id": 5,
              "statement_ids": [
                5
              ],
              "state": "finished",
              "livy_statement_state": "available",
              "spark_jobs": null,
              "session_id": "26",
              "normalized_state": "finished",
              "queued_time": "2024-09-24T21:31:31.3795045Z",
              "session_start_time": null,
              "execution_start_time": "2024-09-24T21:33:09.4809071Z",
              "execution_finish_time": "2024-09-24T21:35:56.2556141Z",
              "parent_msg_id": "ceee81f2-8dc6-4421-9480-fb47f22814ba"
            },
            "text/plain": "StatementMeta(rewardprogram, 26, 5, Finished, Available, Finished)"
          },
          "metadata": {}
        },
        {
          "output_type": "stream",
          "name": "stdout",
          "text": [
            "success create table transaction\nsuccess create table offer_received\nsuccess create table offer_viewed\nsuccess create table offer_completed\n"
          ]
        }
      ],
      "execution_count": 13,
      "metadata": {
        "jupyter": {
          "source_hidden": false,
          "outputs_hidden": false
        },
        "nteract": {
          "transient": {
            "deleting": false
          }
        }
      }
    }
  ],
  "metadata": {
    "language_info": {
      "name": "python"
    },
    "kernelspec": {
      "name": "synapse_pyspark",
      "language": "Python",
      "display_name": "Synapse PySpark"
    },
    "kernel_info": {
      "name": "synapse_pyspark"
    },
    "save_output": true,
    "synapse_widget": {
      "version": "0.1",
      "state": {}
    }
  },
  "nbformat": 4,
  "nbformat_minor": 2
}