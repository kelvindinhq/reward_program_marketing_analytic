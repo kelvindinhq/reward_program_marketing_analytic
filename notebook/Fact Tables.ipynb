{
  "nbformat": 4,
  "nbformat_minor": 2,
  "metadata": {
    "language_info": {
      "name": "python"
    },
    "kernelspec": {
      "name": "synapse_pyspark",
      "display_name": "python"
    },
    "save_output": true,
    "synapse_widget": {
      "version": "0.1",
      "state": {}
    }
  },
  "cells": [
    {
      "cell_type": "code",
      "execution_count": null,
      "outputs": [],
      "metadata": {},
      "source": [
        "# Set the folder paths so that it can be used later\r\n",
        "silver_folder_path = 'abfss://ws-container@bogomarketingdl.dfs.core.windows.net/silver'\r\n",
        "gold_folder_path = 'abfss://ws-container@bogomarketingdl.dfs.core.windows.net/gold'"
      ]
    },
    {
      "cell_type": "code",
      "execution_count": null,
      "outputs": [],
      "metadata": {
        "jupyter": {
          "source_hidden": false,
          "outputs_hidden": false
        },
        "nteract": {
          "transient": {
            "deleting": false
          }
        }
      },
      "source": [
        "from pyspark.sql import functions as F"
      ]
    },
    {
      "cell_type": "code",
      "execution_count": null,
      "outputs": [],
      "metadata": {
        "jupyter": {
          "source_hidden": false,
          "outputs_hidden": false
        },
        "nteract": {
          "transient": {
            "deleting": false
          }
        }
      },
      "source": [
        "def ingest_table(table_name):\r\n",
        "    df = spark.read.parquet(f\"{silver_folder_path}/{table_name}\")\r\n",
        "    # Create the 'day' column by dividing 'time' by 24\r\n",
        "    df = df.withColumn('day', ((F.col('time') / 24)+1).cast('int'))\r\n",
        "    df = df.dropDuplicates()\r\n",
        "    df.write.mode(\"overwrite\").partitionBy(\"day\",\"time\")\\\r\n",
        "    .format(\"parquet\").saveAsTable(f\"gold_reward_program_spark.{table_name}\")"
      ]
    },
    {
      "cell_type": "code",
      "execution_count": null,
      "outputs": [],
      "metadata": {
        "jupyter": {
          "source_hidden": false,
          "outputs_hidden": false
        },
        "nteract": {
          "transient": {
            "deleting": false
          }
        }
      },
      "source": [
        "table_names = ['transaction','order_received','order_viewed','order_completed']\r\n",
        "\r\n",
        "foreach table_name in table_names:\r\n",
        "    ingest_table(table_name)"
      ]
    }
  ]
}