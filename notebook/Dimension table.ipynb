{
  "cells": [
    {
      "cell_type": "markdown",
      "source": [
        "#### Dimension table - Data Cleaning\r\n"
      ],
      "metadata": {
        "nteract": {
          "transient": {
            "deleting": false
          }
        }
      }
    },
    {
      "cell_type": "markdown",
      "source": [
        "##### Purpose of the noode book:\r\n",
        "1. Clean duplicate, null values from dimension tables\r\n",
        "2. Write to gold layer data storage"
      ],
      "metadata": {
        "nteract": {
          "transient": {
            "deleting": false
          }
        }
      }
    },
    {
      "cell_type": "code",
      "source": [
        "# Set the folder paths so that it can be used later\r\n",
        "silver_folder_path = 'abfss://ws-container@bogomarketingdl.dfs.core.windows.net/silver'\r\n",
        "gold_folder_path = 'abfss://ws-container@bogomarketingdl.dfs.core.windows.net/gold'"
      ],
      "outputs": [
        {
          "output_type": "display_data",
          "data": {
            "application/vnd.livy.statement-meta+json": {
              "spark_pool": "rewardprogram",
              "statement_id": 2,
              "statement_ids": [
                2
              ],
              "state": "finished",
              "livy_statement_state": "available",
              "spark_jobs": null,
              "session_id": "23",
              "normalized_state": "finished",
              "queued_time": "2024-09-24T21:11:56.8045898Z",
              "session_start_time": "2024-09-24T21:11:56.8561748Z",
              "execution_start_time": "2024-09-24T21:15:17.6122341Z",
              "execution_finish_time": "2024-09-24T21:15:17.7621986Z",
              "parent_msg_id": "09435a43-c208-49c6-aeb0-a0d1bc3d249c"
            },
            "text/plain": "StatementMeta(rewardprogram, 23, 2, Finished, Available, Finished)"
          },
          "metadata": {}
        }
      ],
      "execution_count": 1,
      "metadata": {
        "jupyter": {
          "source_hidden": false,
          "outputs_hidden": false
        },
        "nteract": {
          "transient": {
            "deleting": false
          }
        }
      }
    },
    {
      "cell_type": "code",
      "source": [
        "%%sql\r\n",
        "CREATE DATABASE IF NOT EXISTS gold_reward_program_spark\r\n",
        "LOCATION 'abfss://ws-container@bogomarketingdl.dfs.core.windows.net/gold';"
      ],
      "outputs": [
        {
          "output_type": "display_data",
          "data": {
            "application/vnd.livy.statement-meta+json": {
              "spark_pool": "rewardprogram",
              "statement_id": 3,
              "statement_ids": [
                3
              ],
              "state": "finished",
              "livy_statement_state": "available",
              "spark_jobs": null,
              "session_id": "23",
              "normalized_state": "finished",
              "queued_time": "2024-09-24T21:11:56.806049Z",
              "session_start_time": null,
              "execution_start_time": "2024-09-24T21:15:17.8882829Z",
              "execution_finish_time": "2024-09-24T21:15:34.1030411Z",
              "parent_msg_id": "c77a32b6-640d-4a38-a955-61ac0999cb35"
            },
            "text/plain": "StatementMeta(rewardprogram, 23, 3, Finished, Available, Finished)"
          },
          "metadata": {}
        },
        {
          "output_type": "execute_result",
          "execution_count": 2,
          "data": {
            "application/vnd.synapse.sparksql-result+json": {
              "schema": {
                "type": "struct",
                "fields": []
              },
              "data": []
            },
            "text/plain": "<Spark SQL result set with 0 rows and 0 fields>"
          },
          "metadata": {}
        }
      ],
      "execution_count": 2,
      "metadata": {
        "microsoft": {
          "language": "sparksql"
        },
        "jupyter": {
          "source_hidden": false,
          "outputs_hidden": false
        },
        "nteract": {
          "transient": {
            "deleting": false
          }
        },
        "collapsed": false
      }
    },
    {
      "cell_type": "code",
      "source": [
        "customer_profile = spark.read.parquet(f\"{silver_folder_path}/customer_profile\")"
      ],
      "outputs": [
        {
          "output_type": "display_data",
          "data": {
            "application/vnd.livy.statement-meta+json": {
              "spark_pool": "rewardprogram",
              "statement_id": 4,
              "statement_ids": [
                4
              ],
              "state": "finished",
              "livy_statement_state": "available",
              "spark_jobs": null,
              "session_id": "23",
              "normalized_state": "finished",
              "queued_time": "2024-09-24T21:11:56.808978Z",
              "session_start_time": null,
              "execution_start_time": "2024-09-24T21:15:34.2125669Z",
              "execution_finish_time": "2024-09-24T21:15:45.2579353Z",
              "parent_msg_id": "47d8c37f-54dc-483b-9919-6f781ad914e9"
            },
            "text/plain": "StatementMeta(rewardprogram, 23, 4, Finished, Available, Finished)"
          },
          "metadata": {}
        }
      ],
      "execution_count": 3,
      "metadata": {
        "jupyter": {
          "source_hidden": false,
          "outputs_hidden": false
        },
        "nteract": {
          "transient": {
            "deleting": false
          }
        }
      }
    },
    {
      "cell_type": "code",
      "source": [
        "customer_profile.show()"
      ],
      "outputs": [
        {
          "output_type": "display_data",
          "data": {
            "application/vnd.livy.statement-meta+json": {
              "spark_pool": "rewardprogram",
              "statement_id": 5,
              "statement_ids": [
                5
              ],
              "state": "finished",
              "livy_statement_state": "available",
              "spark_jobs": null,
              "session_id": "23",
              "normalized_state": "finished",
              "queued_time": "2024-09-24T21:11:56.809864Z",
              "session_start_time": null,
              "execution_start_time": "2024-09-24T21:15:45.3772344Z",
              "execution_finish_time": "2024-09-24T21:15:57.9440298Z",
              "parent_msg_id": "2253687e-984d-45cd-a6d1-ad02a470d146"
            },
            "text/plain": "StatementMeta(rewardprogram, 23, 5, Finished, Available, Finished)"
          },
          "metadata": {}
        },
        {
          "output_type": "stream",
          "name": "stdout",
          "text": [
            "+------+---+--------------------+----------------+------+\n|gender|age|                  id|became_member_on|income|\n+------+---+--------------------+----------------+------+\n|     M| 68|e2127556f4f64592b...|      2018-04-26| 70000|\n|     M| 64|4b0da7e80e5945209...|      2017-09-09|100000|\n|     M| 56|8dabe2142cdf4013a...|      2014-05-11| 68000|\n|     F| 39|f247806381704ea58...|      2014-07-23| 56000|\n|     M| 76|39dbcf43e24d41f4b...|      2014-08-31| 64000|\n|     F| 73|a2b7a0b3487a4d779...|      2018-04-19| 91000|\n|     M| 45|b19c8e7ac2ff40ae9...|      2017-08-15| 54000|\n|     M| 53|13033baa9d294c3c9...|      2017-09-27| 96000|\n|     M| 79|81e9ad5fa55a4884b...|      2016-06-27| 67000|\n|     M| 65|464d2302b99b46ad8...|      2018-03-15| 61000|\n|     M| 34|4d15a2a5ac134c589...|      2017-12-06| 41000|\n|     F| 74|c84fe4915ef74c7f9...|      2017-12-20| 83000|\n|     M| 24|d250372c924747d8a...|      2017-02-12| 61000|\n|  null|118|e94a9c2e750645d0a...|      2018-07-08|  null|\n|     F| 40|f93884685d214230b...|      2018-07-06| 51000|\n|     M| 55|ace4a7611da040748...|      2016-03-23| 60000|\n|     M| 23|5ad59daa0d6b41f0a...|      2017-10-30| 49000|\n|     M| 62|c05652fa9d2c4fac9...|      2018-01-27| 73000|\n|     M| 20|4e6eb10de9744995b...|      2015-08-12| 32000|\n|     M| 73|32fbf97e89274e8a9...|      2017-12-12| 38000|\n+------+---+--------------------+----------------+------+\nonly showing top 20 rows\n\n"
          ]
        }
      ],
      "execution_count": 4,
      "metadata": {
        "jupyter": {
          "source_hidden": false,
          "outputs_hidden": false
        },
        "nteract": {
          "transient": {
            "deleting": false
          }
        }
      }
    },
    {
      "cell_type": "code",
      "source": [
        "from pyspark.sql.functions import col,isnan, when, count"
      ],
      "outputs": [
        {
          "output_type": "display_data",
          "data": {
            "application/vnd.livy.statement-meta+json": {
              "spark_pool": "rewardprogram",
              "statement_id": 6,
              "statement_ids": [
                6
              ],
              "state": "finished",
              "livy_statement_state": "available",
              "spark_jobs": null,
              "session_id": "23",
              "normalized_state": "finished",
              "queued_time": "2024-09-24T21:11:56.8107398Z",
              "session_start_time": null,
              "execution_start_time": "2024-09-24T21:15:58.060832Z",
              "execution_finish_time": "2024-09-24T21:15:58.2103337Z",
              "parent_msg_id": "f4d45246-e6c2-4f35-91b4-bdc20ae1cb51"
            },
            "text/plain": "StatementMeta(rewardprogram, 23, 6, Finished, Available, Finished)"
          },
          "metadata": {}
        }
      ],
      "execution_count": 5,
      "metadata": {
        "jupyter": {
          "source_hidden": false,
          "outputs_hidden": false
        },
        "nteract": {
          "transient": {
            "deleting": false
          }
        }
      }
    },
    {
      "cell_type": "code",
      "source": [
        "customer_profile.filter(customer_profile.gender.isNull()).show()"
      ],
      "outputs": [
        {
          "output_type": "display_data",
          "data": {
            "application/vnd.livy.statement-meta+json": {
              "spark_pool": "rewardprogram",
              "statement_id": 7,
              "statement_ids": [
                7
              ],
              "state": "finished",
              "livy_statement_state": "available",
              "spark_jobs": null,
              "session_id": "23",
              "normalized_state": "finished",
              "queued_time": "2024-09-24T21:11:56.8117882Z",
              "session_start_time": null,
              "execution_start_time": "2024-09-24T21:15:58.3259229Z",
              "execution_finish_time": "2024-09-24T21:15:59.4079129Z",
              "parent_msg_id": "2f17701b-db77-4344-a5bd-5504acfef75c"
            },
            "text/plain": "StatementMeta(rewardprogram, 23, 7, Finished, Available, Finished)"
          },
          "metadata": {}
        },
        {
          "output_type": "stream",
          "name": "stdout",
          "text": [
            "+------+---+--------------------+----------------+------+\n|gender|age|                  id|became_member_on|income|\n+------+---+--------------------+----------------+------+\n|  null|118|e94a9c2e750645d0a...|      2018-07-08|  null|\n|  null|118|459b2f93d34d46c9a...|      2016-06-23|  null|\n|  null|118|9de54389816342449...|      2018-04-22|  null|\n|  null|118|7ca349e55ff544c7a...|      2017-08-28|  null|\n|  null|118|cc1891e307dd48f49...|      2017-08-06|  null|\n|  null|118|0d799e1906ff4387b...|      2018-04-17|  null|\n|  null|118|c039e4d31d48483bb...|      2017-12-08|  null|\n|  null|118|3909e7107fb7499ba...|      2017-12-21|  null|\n|  null|118|3f8b8ce1768d42758...|      2015-08-12|  null|\n|  null|118|c8ecfc8685bd4cbc8...|      2017-02-25|  null|\n|  null|118|0bb1b63ae72141cea...|      2016-05-13|  null|\n|  null|118|6cd7e548e2a04429b...|      2018-01-13|  null|\n|  null|118|5aa2cd5e17c540ada...|      2017-07-01|  null|\n|  null|118|70712affff0d4f389...|      2016-03-30|  null|\n|  null|118|390d897a08e94263b...|      2017-08-04|  null|\n|  null|118|18b4fdca88b347aa8...|      2017-11-10|  null|\n|  null|118|1bfed1986f2e45519...|      2017-10-05|  null|\n|  null|118|5e8b47c6fcec4da0a...|      2014-07-20|  null|\n|  null|118|7f202eb46e3140f49...|      2015-10-18|  null|\n|  null|118|cc45d9155aac463d9...|      2017-08-02|  null|\n+------+---+--------------------+----------------+------+\nonly showing top 20 rows\n\n"
          ]
        }
      ],
      "execution_count": 6,
      "metadata": {
        "jupyter": {
          "source_hidden": false,
          "outputs_hidden": false
        },
        "nteract": {
          "transient": {
            "deleting": false
          }
        }
      }
    },
    {
      "cell_type": "code",
      "source": [
        "customer_profile = customer_profile.na.fill(\"Unknown\", subset=['gender'])\r\n",
        "customer_profile = customer_profile.na.fill(0, subset=['income'])"
      ],
      "outputs": [
        {
          "output_type": "display_data",
          "data": {
            "application/vnd.livy.statement-meta+json": {
              "spark_pool": "rewardprogram",
              "statement_id": 8,
              "statement_ids": [
                8
              ],
              "state": "finished",
              "livy_statement_state": "available",
              "spark_jobs": null,
              "session_id": "23",
              "normalized_state": "finished",
              "queued_time": "2024-09-24T21:11:56.8128675Z",
              "session_start_time": null,
              "execution_start_time": "2024-09-24T21:15:59.5326466Z",
              "execution_finish_time": "2024-09-24T21:15:59.6821164Z",
              "parent_msg_id": "27948ad1-9825-49e2-8ed2-3c0a1f8db8fd"
            },
            "text/plain": "StatementMeta(rewardprogram, 23, 8, Finished, Available, Finished)"
          },
          "metadata": {}
        }
      ],
      "execution_count": 7,
      "metadata": {
        "jupyter": {
          "source_hidden": false,
          "outputs_hidden": false
        },
        "nteract": {
          "transient": {
            "deleting": false
          }
        }
      }
    },
    {
      "cell_type": "code",
      "source": [
        "customer_profile.select([count(when(isnan(c) | col(c).isNull(), c)).alias(c) for c in ['gender', 'age', 'income']]\r\n",
        "   ).show()"
      ],
      "outputs": [
        {
          "output_type": "display_data",
          "data": {
            "application/vnd.livy.statement-meta+json": {
              "spark_pool": "rewardprogram",
              "statement_id": 9,
              "statement_ids": [
                9
              ],
              "state": "finished",
              "livy_statement_state": "available",
              "spark_jobs": null,
              "session_id": "23",
              "normalized_state": "finished",
              "queued_time": "2024-09-24T21:11:56.8139111Z",
              "session_start_time": null,
              "execution_start_time": "2024-09-24T21:15:59.799964Z",
              "execution_finish_time": "2024-09-24T21:16:05.091893Z",
              "parent_msg_id": "fc1089cf-1a9e-41c4-bd40-5ac542065e06"
            },
            "text/plain": "StatementMeta(rewardprogram, 23, 9, Finished, Available, Finished)"
          },
          "metadata": {}
        },
        {
          "output_type": "stream",
          "name": "stdout",
          "text": [
            "+------+---+------+\n|gender|age|income|\n+------+---+------+\n|     0|  0|     0|\n+------+---+------+\n\n"
          ]
        }
      ],
      "execution_count": 8,
      "metadata": {
        "jupyter": {
          "source_hidden": false,
          "outputs_hidden": false
        },
        "nteract": {
          "transient": {
            "deleting": false
          }
        }
      }
    },
    {
      "cell_type": "code",
      "source": [
        "%%sql\r\n",
        "Drop table if exists gold_reward_program_spark.customer_profile"
      ],
      "outputs": [
        {
          "output_type": "display_data",
          "data": {
            "application/vnd.livy.statement-meta+json": {
              "spark_pool": "rewardprogram",
              "statement_id": 10,
              "statement_ids": [
                10
              ],
              "state": "finished",
              "livy_statement_state": "available",
              "spark_jobs": null,
              "session_id": "23",
              "normalized_state": "finished",
              "queued_time": "2024-09-24T21:11:56.8165406Z",
              "session_start_time": null,
              "execution_start_time": "2024-09-24T21:16:05.2084298Z",
              "execution_finish_time": "2024-09-24T21:16:07.9757214Z",
              "parent_msg_id": "2fab67fd-936b-4986-8126-c457d5c66ab1"
            },
            "text/plain": "StatementMeta(rewardprogram, 23, 10, Finished, Available, Finished)"
          },
          "metadata": {}
        },
        {
          "output_type": "execute_result",
          "execution_count": 9,
          "data": {
            "application/vnd.synapse.sparksql-result+json": {
              "schema": {
                "type": "struct",
                "fields": []
              },
              "data": []
            },
            "text/plain": "<Spark SQL result set with 0 rows and 0 fields>"
          },
          "metadata": {}
        }
      ],
      "execution_count": 9,
      "metadata": {
        "microsoft": {
          "language": "sparksql"
        },
        "jupyter": {
          "source_hidden": false,
          "outputs_hidden": false
        },
        "nteract": {
          "transient": {
            "deleting": false
          }
        },
        "collapsed": false
      }
    },
    {
      "cell_type": "code",
      "source": [
        "customer_profile.write.mode(\"overwrite\").format(\"parquet\").saveAsTable(\"gold_reward_program_spark.customer_profile\")"
      ],
      "outputs": [
        {
          "output_type": "display_data",
          "data": {
            "application/vnd.livy.statement-meta+json": {
              "spark_pool": "rewardprogram",
              "statement_id": 11,
              "statement_ids": [
                11
              ],
              "state": "finished",
              "livy_statement_state": "available",
              "spark_jobs": null,
              "session_id": "23",
              "normalized_state": "finished",
              "queued_time": "2024-09-24T21:11:56.8177933Z",
              "session_start_time": null,
              "execution_start_time": "2024-09-24T21:16:08.075491Z",
              "execution_finish_time": "2024-09-24T21:16:13.3590372Z",
              "parent_msg_id": "57b3c780-dc25-453e-9ef9-40c1160c9ff7"
            },
            "text/plain": "StatementMeta(rewardprogram, 23, 11, Finished, Available, Finished)"
          },
          "metadata": {}
        }
      ],
      "execution_count": 10,
      "metadata": {
        "jupyter": {
          "source_hidden": false,
          "outputs_hidden": false
        },
        "nteract": {
          "transient": {
            "deleting": false
          }
        }
      }
    },
    {
      "cell_type": "code",
      "source": [
        "offer_type = spark.read.parquet(f\"{silver_folder_path}/offer_type\")"
      ],
      "outputs": [
        {
          "output_type": "display_data",
          "data": {
            "application/vnd.livy.statement-meta+json": {
              "spark_pool": "rewardprogram",
              "statement_id": 12,
              "statement_ids": [
                12
              ],
              "state": "finished",
              "livy_statement_state": "available",
              "spark_jobs": null,
              "session_id": "23",
              "normalized_state": "finished",
              "queued_time": "2024-09-24T21:11:56.8194152Z",
              "session_start_time": null,
              "execution_start_time": "2024-09-24T21:16:13.474013Z",
              "execution_finish_time": "2024-09-24T21:16:13.9951166Z",
              "parent_msg_id": "5ca6c957-2475-4027-85b1-5458672ea4d6"
            },
            "text/plain": "StatementMeta(rewardprogram, 23, 12, Finished, Available, Finished)"
          },
          "metadata": {}
        }
      ],
      "execution_count": 11,
      "metadata": {
        "jupyter": {
          "source_hidden": false,
          "outputs_hidden": false
        },
        "nteract": {
          "transient": {
            "deleting": false
          }
        }
      }
    },
    {
      "cell_type": "code",
      "source": [
        "offer_type.show()"
      ],
      "outputs": [
        {
          "output_type": "display_data",
          "data": {
            "application/vnd.livy.statement-meta+json": {
              "spark_pool": "rewardprogram",
              "statement_id": 13,
              "statement_ids": [
                13
              ],
              "state": "finished",
              "livy_statement_state": "available",
              "spark_jobs": null,
              "session_id": "23",
              "normalized_state": "finished",
              "queued_time": "2024-09-24T21:11:56.8206713Z",
              "session_start_time": null,
              "execution_start_time": "2024-09-24T21:16:14.1118509Z",
              "execution_finish_time": "2024-09-24T21:16:15.1676574Z",
              "parent_msg_id": "dd2ef5d0-00aa-403c-a1e2-22b1f91ca4c3"
            },
            "text/plain": "StatementMeta(rewardprogram, 23, 13, Finished, Available, Finished)"
          },
          "metadata": {}
        },
        {
          "output_type": "stream",
          "name": "stdout",
          "text": [
            "+------+---------+---------+---------+---------+----------+--------+-------------+--------------------+\n|reward|channel_1|channel_2|channel_3|channel_4|difficulty|duration|   offer_type|                  id|\n+------+---------+---------+---------+---------+----------+--------+-------------+--------------------+\n|    10|    email|   mobile|   social|     null|        10|    7.00|         bogo|ae264e3637204a6fb...|\n|    10|      web|    email|   mobile|   social|        10|    5.00|         bogo|4d5c57ea9a6940dd8...|\n|     0|      web|    email|   mobile|     null|         0|    4.00|informational|3f207df678b143eea...|\n|     5|      web|    email|   mobile|     null|         5|    7.00|         bogo|9b98b8c7a33c4b65b...|\n|     5|      web|    email|     null|     null|        20|   10.00|     discount|0b1e1539f2cc45b7b...|\n|     3|      web|    email|   mobile|   social|         7|    7.00|     discount|2298d6c36e964ae4a...|\n|     2|      web|    email|   mobile|   social|        10|   10.00|     discount|fafdcd668e3743c1b...|\n|     0|    email|   mobile|   social|     null|         0|    3.00|informational|5a8bc65990b245e5a...|\n|     5|      web|    email|   mobile|   social|         5|    5.00|         bogo|f19421c1d4aa40978...|\n|     2|      web|    email|   mobile|     null|        10|    7.00|     discount|2906b810c7d441179...|\n+------+---------+---------+---------+---------+----------+--------+-------------+--------------------+\n\n"
          ]
        }
      ],
      "execution_count": 12,
      "metadata": {
        "jupyter": {
          "source_hidden": false,
          "outputs_hidden": false
        },
        "nteract": {
          "transient": {
            "deleting": false
          }
        }
      }
    },
    {
      "cell_type": "code",
      "source": [
        "from pyspark.sql import functions as F\r\n",
        "\r\n",
        "# List of unique channels across all columns\r\n",
        "channels = ['web', 'email', 'mobile', 'social']\r\n",
        "\r\n",
        "# Iterate over each channel and create a dummy column for it\r\n",
        "for channel in channels:\r\n",
        "    # Check if the channel appears in any of the four channel columns\r\n",
        "    offer_type = offer_type.withColumn(f'channel_{channel}', \r\n",
        "                       F.when(\r\n",
        "                           (F.col('channel_1') == channel) |\r\n",
        "                           (F.col('channel_2') == channel) |\r\n",
        "                           (F.col('channel_3') == channel) |\r\n",
        "                           (F.col('channel_4') == channel), 1\r\n",
        "                       ).otherwise(0))\r\n",
        "\r\n",
        "# Drop original channel columns if no longer needed\r\n",
        "offer_type = offer_type.drop('channel_1', 'channel_2', 'channel_3', 'channel_4')\r\n",
        "\r\n",
        "# Show the resulting DataFrame\r\n",
        "offer_type.show()"
      ],
      "outputs": [
        {
          "output_type": "display_data",
          "data": {
            "application/vnd.livy.statement-meta+json": {
              "spark_pool": "rewardprogram",
              "statement_id": 14,
              "statement_ids": [
                14
              ],
              "state": "finished",
              "livy_statement_state": "available",
              "spark_jobs": null,
              "session_id": "23",
              "normalized_state": "finished",
              "queued_time": "2024-09-24T21:11:56.822456Z",
              "session_start_time": null,
              "execution_start_time": "2024-09-24T21:16:15.2888706Z",
              "execution_finish_time": "2024-09-24T21:16:16.3574617Z",
              "parent_msg_id": "494f31f3-be44-4e82-9048-b0d88fe614cd"
            },
            "text/plain": "StatementMeta(rewardprogram, 23, 14, Finished, Available, Finished)"
          },
          "metadata": {}
        },
        {
          "output_type": "stream",
          "name": "stdout",
          "text": [
            "+------+----------+--------+-------------+--------------------+-----------+-------------+--------------+--------------+\n|reward|difficulty|duration|   offer_type|                  id|channel_web|channel_email|channel_mobile|channel_social|\n+------+----------+--------+-------------+--------------------+-----------+-------------+--------------+--------------+\n|    10|        10|    7.00|         bogo|ae264e3637204a6fb...|          0|            1|             1|             1|\n|    10|        10|    5.00|         bogo|4d5c57ea9a6940dd8...|          1|            1|             1|             1|\n|     0|         0|    4.00|informational|3f207df678b143eea...|          1|            1|             1|             0|\n|     5|         5|    7.00|         bogo|9b98b8c7a33c4b65b...|          1|            1|             1|             0|\n|     5|        20|   10.00|     discount|0b1e1539f2cc45b7b...|          1|            1|             0|             0|\n|     3|         7|    7.00|     discount|2298d6c36e964ae4a...|          1|            1|             1|             1|\n|     2|        10|   10.00|     discount|fafdcd668e3743c1b...|          1|            1|             1|             1|\n|     0|         0|    3.00|informational|5a8bc65990b245e5a...|          0|            1|             1|             1|\n|     5|         5|    5.00|         bogo|f19421c1d4aa40978...|          1|            1|             1|             1|\n|     2|        10|    7.00|     discount|2906b810c7d441179...|          1|            1|             1|             0|\n+------+----------+--------+-------------+--------------------+-----------+-------------+--------------+--------------+\n\n"
          ]
        }
      ],
      "execution_count": 13,
      "metadata": {
        "jupyter": {
          "source_hidden": false,
          "outputs_hidden": false
        },
        "nteract": {
          "transient": {
            "deleting": false
          }
        }
      }
    },
    {
      "cell_type": "code",
      "source": [
        "offer_type.write.mode(\"overwrite\").format(\"parquet\").saveAsTable(\"gold_reward_program_spark.offer_type\")"
      ],
      "outputs": [
        {
          "output_type": "display_data",
          "data": {
            "application/vnd.livy.statement-meta+json": {
              "spark_pool": "rewardprogram",
              "statement_id": 15,
              "statement_ids": [
                15
              ],
              "state": "finished",
              "livy_statement_state": "available",
              "spark_jobs": null,
              "session_id": "23",
              "normalized_state": "finished",
              "queued_time": "2024-09-24T21:11:56.8241073Z",
              "session_start_time": null,
              "execution_start_time": "2024-09-24T21:16:16.4813136Z",
              "execution_finish_time": "2024-09-24T21:16:19.2477946Z",
              "parent_msg_id": "2166353d-80a6-494a-9512-0ca03f25b6bf"
            },
            "text/plain": "StatementMeta(rewardprogram, 23, 15, Finished, Available, Finished)"
          },
          "metadata": {}
        }
      ],
      "execution_count": 14,
      "metadata": {
        "jupyter": {
          "source_hidden": false,
          "outputs_hidden": false
        },
        "nteract": {
          "transient": {
            "deleting": false
          }
        }
      }
    }
  ],
  "metadata": {
    "language_info": {
      "name": "python"
    },
    "kernelspec": {
      "name": "synapse_pyspark",
      "language": "Python",
      "display_name": "Synapse PySpark"
    },
    "kernel_info": {
      "name": "synapse_pyspark"
    },
    "save_output": true,
    "synapse_widget": {
      "version": "0.1",
      "state": {}
    }
  },
  "nbformat": 4,
  "nbformat_minor": 2
}